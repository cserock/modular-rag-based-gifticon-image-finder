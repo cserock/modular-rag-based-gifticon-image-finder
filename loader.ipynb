{
 "cells": [
  {
   "cell_type": "code",
   "metadata": {},
   "source": [
    "from packages.graphs.loader import load_from_image\n",
    "from packages.graphs.loader import delete_by_id\n",
    "\n",
    "# 이미지 등록\n",
    "# load_from_image('./upload_files/coupon_A_03.jpeg')\n",
    "\n",
    "# document 삭제\n",
    "delete_by_id(['./data/coupon_image_files/coupon_A_03.jpeg'])"
   ],
   "outputs": [],
   "execution_count": null
  }
 ],
 "metadata": {
  "kernelspec": {
   "display_name": ".venv",
   "language": "python",
   "name": "python3"
  },
  "language_info": {
   "codemirror_mode": {
    "name": "ipython",
    "version": 3
   },
   "file_extension": ".py",
   "mimetype": "text/x-python",
   "name": "python",
   "nbconvert_exporter": "python",
   "pygments_lexer": "ipython3",
   "version": "3.11.10"
  }
 },
 "nbformat": 4,
 "nbformat_minor": 2
}
